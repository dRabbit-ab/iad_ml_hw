{
 "cells": [
  {
   "cell_type": "markdown",
   "metadata": {},
   "source": [
    "# Домашнее задание 6: классификация текстов"
   ]
  },
  {
   "cell_type": "markdown",
   "metadata": {},
   "source": [
    "В этом домашнем задании вам предстоит построить классификатор текстов!\n",
    "\n",
    "Данные мы будем использовать из Kaggle соревнования: https://www.kaggle.com/competitions/nlp-getting-started/data Оттуда надо скачать файл train.csv. На обучающую и тестовую выборки его поделим кодом ниже, менять его не надо!"
   ]
  },
  {
   "cell_type": "markdown",
   "metadata": {},
   "source": [
    "Мы будем работать с датасетом постов из твиттера. Нам предстоит решать задачу бинарной классификации - определять содержатся ли в твитте информация о настоящей катастрофе/инциденте или нет."
   ]
  },
  {
   "cell_type": "code",
   "execution_count": 1,
   "metadata": {},
   "outputs": [],
   "source": [
    "import pandas as pd\n",
    "import numpy as np\n",
    "import matplotlib.pyplot as plt\n",
    "import seaborn as sns"
   ]
  },
  {
   "cell_type": "code",
   "execution_count": 2,
   "metadata": {},
   "outputs": [
    {
     "name": "stdout",
     "output_type": "stream",
     "text": [
      "Requirement already satisfied: pip in c:\\users\\dima1\\anaconda3\\lib\\site-packages (22.1)\n",
      "Requirement already satisfied: gdown in c:\\users\\dima1\\anaconda3\\lib\\site-packages (4.4.0)\n",
      "Requirement already satisfied: beautifulsoup4 in c:\\users\\dima1\\anaconda3\\lib\\site-packages (from gdown) (4.9.1)\n",
      "Requirement already satisfied: six in c:\\users\\dima1\\anaconda3\\lib\\site-packages (from gdown) (1.15.0)\n",
      "Requirement already satisfied: filelock in c:\\users\\dima1\\anaconda3\\lib\\site-packages (from gdown) (3.0.12)\n",
      "Requirement already satisfied: tqdm in c:\\users\\dima1\\anaconda3\\lib\\site-packages (from gdown) (4.47.0)\n",
      "Requirement already satisfied: requests[socks] in c:\\users\\dima1\\anaconda3\\lib\\site-packages (from gdown) (2.24.0)\n",
      "Requirement already satisfied: soupsieve>1.2 in c:\\users\\dima1\\anaconda3\\lib\\site-packages (from beautifulsoup4->gdown) (2.0.1)\n",
      "Requirement already satisfied: certifi>=2017.4.17 in c:\\users\\dima1\\anaconda3\\lib\\site-packages (from requests[socks]->gdown) (2020.6.20)\n",
      "Requirement already satisfied: idna<3,>=2.5 in c:\\users\\dima1\\anaconda3\\lib\\site-packages (from requests[socks]->gdown) (2.10)\n",
      "Requirement already satisfied: chardet<4,>=3.0.2 in c:\\users\\dima1\\anaconda3\\lib\\site-packages (from requests[socks]->gdown) (3.0.4)\n",
      "Requirement already satisfied: urllib3!=1.25.0,!=1.25.1,<1.26,>=1.21.1 in c:\\users\\dima1\\anaconda3\\lib\\site-packages (from requests[socks]->gdown) (1.25.9)\n",
      "Requirement already satisfied: PySocks!=1.5.7,>=1.5.6 in c:\\users\\dima1\\anaconda3\\lib\\site-packages (from requests[socks]->gdown) (1.7.1)\n"
     ]
    },
    {
     "name": "stderr",
     "output_type": "stream",
     "text": [
      "Downloading...\n",
      "From: https://drive.google.com/uc?id=1kqEaDc_yTqH8Yp7FoUacEMtdY-wfGYE6\n",
      "To: C:\\Users\\dima1\\OneDrive - НИУ Высшая школа экономики\\Anaconda_Projects\\Iad\\train_tweets.csv\n",
      "\n",
      "  0%|          | 0.00/988k [00:00<?, ?B/s]\n",
      "100%|██████████| 988k/988k [00:00<00:00, 19.3MB/s]\n"
     ]
    }
   ],
   "source": [
    "! pip install --upgrade pip\n",
    "! pip install gdown\n",
    "! gdown 1kqEaDc_yTqH8Yp7FoUacEMtdY-wfGYE6"
   ]
  },
  {
   "cell_type": "code",
   "execution_count": 3,
   "metadata": {},
   "outputs": [],
   "source": [
    "data = pd.read_csv('train_tweets.csv')"
   ]
  },
  {
   "cell_type": "code",
   "execution_count": 4,
   "metadata": {},
   "outputs": [
    {
     "data": {
      "text/html": [
       "<div>\n",
       "<style scoped>\n",
       "    .dataframe tbody tr th:only-of-type {\n",
       "        vertical-align: middle;\n",
       "    }\n",
       "\n",
       "    .dataframe tbody tr th {\n",
       "        vertical-align: top;\n",
       "    }\n",
       "\n",
       "    .dataframe thead th {\n",
       "        text-align: right;\n",
       "    }\n",
       "</style>\n",
       "<table border=\"1\" class=\"dataframe\">\n",
       "  <thead>\n",
       "    <tr style=\"text-align: right;\">\n",
       "      <th></th>\n",
       "      <th>id</th>\n",
       "      <th>keyword</th>\n",
       "      <th>location</th>\n",
       "      <th>text</th>\n",
       "      <th>target</th>\n",
       "    </tr>\n",
       "  </thead>\n",
       "  <tbody>\n",
       "    <tr>\n",
       "      <th>0</th>\n",
       "      <td>1</td>\n",
       "      <td>NaN</td>\n",
       "      <td>NaN</td>\n",
       "      <td>Our Deeds are the Reason of this #earthquake M...</td>\n",
       "      <td>1</td>\n",
       "    </tr>\n",
       "    <tr>\n",
       "      <th>1</th>\n",
       "      <td>4</td>\n",
       "      <td>NaN</td>\n",
       "      <td>NaN</td>\n",
       "      <td>Forest fire near La Ronge Sask. Canada</td>\n",
       "      <td>1</td>\n",
       "    </tr>\n",
       "    <tr>\n",
       "      <th>2</th>\n",
       "      <td>5</td>\n",
       "      <td>NaN</td>\n",
       "      <td>NaN</td>\n",
       "      <td>All residents asked to 'shelter in place' are ...</td>\n",
       "      <td>1</td>\n",
       "    </tr>\n",
       "    <tr>\n",
       "      <th>3</th>\n",
       "      <td>6</td>\n",
       "      <td>NaN</td>\n",
       "      <td>NaN</td>\n",
       "      <td>13,000 people receive #wildfires evacuation or...</td>\n",
       "      <td>1</td>\n",
       "    </tr>\n",
       "    <tr>\n",
       "      <th>4</th>\n",
       "      <td>7</td>\n",
       "      <td>NaN</td>\n",
       "      <td>NaN</td>\n",
       "      <td>Just got sent this photo from Ruby #Alaska as ...</td>\n",
       "      <td>1</td>\n",
       "    </tr>\n",
       "  </tbody>\n",
       "</table>\n",
       "</div>"
      ],
      "text/plain": [
       "   id keyword location                                               text  \\\n",
       "0   1     NaN      NaN  Our Deeds are the Reason of this #earthquake M...   \n",
       "1   4     NaN      NaN             Forest fire near La Ronge Sask. Canada   \n",
       "2   5     NaN      NaN  All residents asked to 'shelter in place' are ...   \n",
       "3   6     NaN      NaN  13,000 people receive #wildfires evacuation or...   \n",
       "4   7     NaN      NaN  Just got sent this photo from Ruby #Alaska as ...   \n",
       "\n",
       "   target  \n",
       "0       1  \n",
       "1       1  \n",
       "2       1  \n",
       "3       1  \n",
       "4       1  "
      ]
     },
     "execution_count": 4,
     "metadata": {},
     "output_type": "execute_result"
    }
   ],
   "source": [
    "data.head()"
   ]
  },
  {
   "cell_type": "code",
   "execution_count": 5,
   "metadata": {},
   "outputs": [],
   "source": [
    "# перенес train test split в задание 4 для удобства"
   ]
  },
  {
   "cell_type": "markdown",
   "metadata": {},
   "source": [
    "## Задание 1 (0.5 балла)\n",
    "\n",
    "Выведете на экран информацию о пропусках в данных. Если пропуски присутствуют заполните их пустой строкой."
   ]
  },
  {
   "cell_type": "code",
   "execution_count": 6,
   "metadata": {},
   "outputs": [
    {
     "data": {
      "text/plain": [
       "id          False\n",
       "keyword      True\n",
       "location     True\n",
       "text        False\n",
       "target      False\n",
       "dtype: bool"
      ]
     },
     "execution_count": 6,
     "metadata": {},
     "output_type": "execute_result"
    }
   ],
   "source": [
    "data.isna().any()"
   ]
  },
  {
   "cell_type": "code",
   "execution_count": 7,
   "metadata": {},
   "outputs": [],
   "source": [
    "data = data.fillna('')"
   ]
  },
  {
   "cell_type": "markdown",
   "metadata": {},
   "source": [
    "## Задание 2 (1 балл)\n",
    "Давайте немного посмотрим на наши данные. Визуализируйте (где явно просят) или выведете информацию о следующем:\n",
    "\n",
    "1. Какое распределение классов в обучающей выборке?\n",
    "2. Посмотрите на колонку \"keyword\" - возьмите 10 наиболее встречающихся значений, постройте ступенчатую диаграмму распределения классов в зависимости от значения keyword, сделайте выводы."
   ]
  },
  {
   "cell_type": "code",
   "execution_count": 8,
   "metadata": {},
   "outputs": [
    {
     "data": {
      "text/plain": [
       "0    4342\n",
       "1    3271\n",
       "Name: target, dtype: int64"
      ]
     },
     "execution_count": 8,
     "metadata": {},
     "output_type": "execute_result"
    }
   ],
   "source": [
    "data.target.value_counts()"
   ]
  },
  {
   "cell_type": "markdown",
   "metadata": {},
   "source": [
    "Кол-во твитов с классом 1 (реальное проишествие) примерно на 25% меньше, чем кол-во твитов с классом 0"
   ]
  },
  {
   "cell_type": "code",
   "execution_count": 9,
   "metadata": {},
   "outputs": [
    {
     "data": {
      "text/plain": [
       "               61\n",
       "fatalities     45\n",
       "deluge         42\n",
       "armageddon     42\n",
       "sinking        41\n",
       "damage         41\n",
       "harm           41\n",
       "body%20bags    41\n",
       "evacuate       40\n",
       "fear           40\n",
       "outbreak       40\n",
       "Name: keyword, dtype: int64"
      ]
     },
     "execution_count": 9,
     "metadata": {},
     "output_type": "execute_result"
    }
   ],
   "source": [
    "data.keyword.value_counts()[:11]"
   ]
  },
  {
   "cell_type": "markdown",
   "metadata": {},
   "source": [
    "Не считаем первый класс, так как это просто пустая строка, то есть NA значения, которые были недавно заполнены"
   ]
  },
  {
   "cell_type": "code",
   "execution_count": 10,
   "metadata": {},
   "outputs": [
    {
     "data": {
      "image/png": "[encoded data removed]",
      "text/plain": [
       "<Figure size 864x576 with 1 Axes>"
      ]
     },
     "metadata": {
      "needs_background": "light"
     },
     "output_type": "display_data"
    }
   ],
   "source": [
    "plt.figure(figsize=(12, 8))\n",
    "temp = data.keyword.value_counts()[1:20]\n",
    "sns.barplot(x=temp.index, y=temp.values)\n",
    "plt.xticks(rotation=45)\n",
    "plt.show()"
   ]
  },
  {
   "cell_type": "markdown",
   "metadata": {},
   "source": [
    "Если смотреть на картину в целом, то мы можем наблюдать следующий график (см. ниже). На котором заметно, что в целом значения ключевых слов представлены равномерно, однако существует группа таких, которые встречаются довольно редко. Наиболее частое значение NaN, примерно 60 вхождений"
   ]
  },
  {
   "cell_type": "code",
   "execution_count": 11,
   "metadata": {},
   "outputs": [
    {
     "data": {
      "image/png": "[encoded data removed]",
      "text/plain": [
       "<Figure size 864x576 with 1 Axes>"
      ]
     },
     "metadata": {
      "needs_background": "light"
     },
     "output_type": "display_data"
    }
   ],
   "source": [
    "plt.figure(figsize=(12, 8))\n",
    "temp = data.keyword.value_counts()\n",
    "sns.barplot(x=np.arange(temp.shape[0]), y=temp.values)\n",
    "plt.xticks([])\n",
    "plt.show()"
   ]
  },
  {
   "cell_type": "markdown",
   "metadata": {},
   "source": [
    "## Задание 3 (0.5 балла) \n",
    "\n",
    "В этом задании предлагается объединить все три текстовых столбца в один (просто сконкатенировать cтроки) и убрать столбец с индексом."
   ]
  },
  {
   "cell_type": "code",
   "execution_count": 12,
   "metadata": {},
   "outputs": [],
   "source": [
    "data.drop('id', axis=1, inplace=True)"
   ]
  },
  {
   "cell_type": "code",
   "execution_count": 13,
   "metadata": {},
   "outputs": [],
   "source": [
    "data['text'] = data['keyword'] + ' ' + data['location'] + ' ' + data['text']\n",
    "data.drop(['keyword', 'location'], axis=1, inplace=True)"
   ]
  },
  {
   "cell_type": "code",
   "execution_count": 14,
   "metadata": {},
   "outputs": [
    {
     "data": {
      "text/html": [
       "<div>\n",
       "<style scoped>\n",
       "    .dataframe tbody tr th:only-of-type {\n",
       "        vertical-align: middle;\n",
       "    }\n",
       "\n",
       "    .dataframe tbody tr th {\n",
       "        vertical-align: top;\n",
       "    }\n",
       "\n",
       "    .dataframe thead th {\n",
       "        text-align: right;\n",
       "    }\n",
       "</style>\n",
       "<table border=\"1\" class=\"dataframe\">\n",
       "  <thead>\n",
       "    <tr style=\"text-align: right;\">\n",
       "      <th></th>\n",
       "      <th>text</th>\n",
       "      <th>target</th>\n",
       "    </tr>\n",
       "  </thead>\n",
       "  <tbody>\n",
       "    <tr>\n",
       "      <th>0</th>\n",
       "      <td>Our Deeds are the Reason of this #earthquake...</td>\n",
       "      <td>1</td>\n",
       "    </tr>\n",
       "    <tr>\n",
       "      <th>1</th>\n",
       "      <td>Forest fire near La Ronge Sask. Canada</td>\n",
       "      <td>1</td>\n",
       "    </tr>\n",
       "    <tr>\n",
       "      <th>2</th>\n",
       "      <td>All residents asked to 'shelter in place' ar...</td>\n",
       "      <td>1</td>\n",
       "    </tr>\n",
       "    <tr>\n",
       "      <th>3</th>\n",
       "      <td>13,000 people receive #wildfires evacuation ...</td>\n",
       "      <td>1</td>\n",
       "    </tr>\n",
       "    <tr>\n",
       "      <th>4</th>\n",
       "      <td>Just got sent this photo from Ruby #Alaska a...</td>\n",
       "      <td>1</td>\n",
       "    </tr>\n",
       "  </tbody>\n",
       "</table>\n",
       "</div>"
      ],
      "text/plain": [
       "                                                text  target\n",
       "0    Our Deeds are the Reason of this #earthquake...       1\n",
       "1             Forest fire near La Ronge Sask. Canada       1\n",
       "2    All residents asked to 'shelter in place' ar...       1\n",
       "3    13,000 people receive #wildfires evacuation ...       1\n",
       "4    Just got sent this photo from Ruby #Alaska a...       1"
      ]
     },
     "execution_count": 14,
     "metadata": {},
     "output_type": "execute_result"
    }
   ],
   "source": [
    "data.head()"
   ]
  },
  {
   "cell_type": "markdown",
   "metadata": {},
   "source": [
    "## Задание 4 (0.5 балла)\n",
    "\n",
    "Далее мы будем пока работать только с train частью.\n",
    "\n",
    "1. Предобработайте данные (train часть) с помощью CountVectorizer.\n",
    "2. Какого размера получилась матрица?\n"
   ]
  },
  {
   "cell_type": "code",
   "execution_count": 15,
   "metadata": {},
   "outputs": [],
   "source": [
    "from sklearn.feature_extraction.text import CountVectorizer\n",
    "from sklearn.model_selection import train_test_split\n",
    "\n",
    "X_train, X_test, y_train, y_test = train_test_split(data.text, data.target, test_size=0.3, random_state=42)"
   ]
  },
  {
   "cell_type": "code",
   "execution_count": 16,
   "metadata": {},
   "outputs": [],
   "source": [
    "cVect = CountVectorizer()\n",
    "cVect.fit(X_train)\n",
    "X_train_cVectorized = cVect.transform(X_train).toarray()"
   ]
  },
  {
   "cell_type": "code",
   "execution_count": 17,
   "metadata": {},
   "outputs": [
    {
     "data": {
      "text/plain": [
       "(5329, 18455)"
      ]
     },
     "execution_count": 17,
     "metadata": {},
     "output_type": "execute_result"
    }
   ],
   "source": [
    "X_train_cVectorized.shape"
   ]
  },
  {
   "cell_type": "markdown",
   "metadata": {},
   "source": [
    "Получилась матрица размера 5329 строк на 18455 столбцов"
   ]
  },
  {
   "cell_type": "markdown",
   "metadata": {},
   "source": [
    "## Задание 5 (1 балл)\n",
    "\n",
    "В предыдущем пункте у вас должна была получиться достаточно большая матрица.\n",
    "Если вы взгляните на текст, то увидете, что там есть множество специальных символов, ссылок и прочего мусора.\n",
    "\n",
    "Давайте также посмотрим на словарь, который получился в результате построения CountVectorizer, его можно найти в поле vocabulary_ инстанса этого класса. Давайте напишем функцию, которая печает ответы на следующие вопросы:\n",
    "\n",
    "1. Найдите в этом словаре все слова, которые содержат цифры. Сколько таких слов нашлось?\n",
    "\n",
    "2. Найдите все слова, которые содержат символы пунктуации. Сколько таких слов нашлось? \n",
    "\n",
    "3. Сколько хэштегов (токен начинается на #) и упоминаний (токен начинается на @) осталось в словаре?"
   ]
  },
  {
   "cell_type": "code",
   "execution_count": 18,
   "metadata": {},
   "outputs": [],
   "source": [
    "import string\n",
    "import re\n",
    "\n",
    "# слова, которые содержат # или @ будут посчитаны дважды\n",
    "# первый раз, как слова содержащие любые символы пунктуации\n",
    "# второй раз, как слова содержащие хэштеги и упоминания\n",
    "def explore(vocabulary):\n",
    "    \n",
    "    p = re.compile('[' + string.punctuation + '\\\\\\\\' + ']')\n",
    "    \n",
    "    num_count = 0\n",
    "    pun_count = 0\n",
    "    tag_count = 0\n",
    "    \n",
    "    for key in vocabulary:\n",
    "        \n",
    "        if bool(re.search(r'\\d', key)):\n",
    "            num_count += 1\n",
    "            \n",
    "        if bool(re.search(p, key)):\n",
    "            pun_count += 1\n",
    "            \n",
    "        if key[0] == '@' or key[0] == '#':\n",
    "            tag_count += 1\n",
    "    \n",
    "    return (num_count, pun_count, tag_count)"
   ]
  },
  {
   "cell_type": "code",
   "execution_count": 19,
   "metadata": {},
   "outputs": [
    {
     "data": {
      "text/plain": [
       "(3812, 315, 0)"
      ]
     },
     "execution_count": 19,
     "metadata": {},
     "output_type": "execute_result"
    }
   ],
   "source": [
    "explore(cVect.vocabulary_)"
   ]
  },
  {
   "cell_type": "markdown",
   "metadata": {},
   "source": [
    "В словаре находится:\n",
    "    \n",
    "    1) 3812 слов, содержащих цифры\n",
    "    2) 315 слов, содержащих знаки пунктуации\n",
    "    3) 0 слов, содержащих хэштеги или упоминания"
   ]
  },
  {
   "cell_type": "markdown",
   "metadata": {},
   "source": [
    "## Задание 6 (0.5 балла)\n",
    "\n",
    "Вспомним, что на семинаре по текстам мы узнали, что в nltk есть специальный токенизатор для текстов - TweetTokenizer. Попробуем применить CountVectorizer с этим токенизатором. Ответьте на все вопросы из предыдущего пункта для TweetTokenizer и сравните результаты."
   ]
  },
  {
   "cell_type": "code",
   "execution_count": 20,
   "metadata": {},
   "outputs": [
    {
     "name": "stderr",
     "output_type": "stream",
     "text": [
      "C:\\Users\\dima1\\Anaconda3\\lib\\site-packages\\sklearn\\feature_extraction\\text.py:489: UserWarning: The parameter 'token_pattern' will not be used since 'tokenizer' is not None'\n",
      "  warnings.warn(\"The parameter 'token_pattern' will not be used\"\n"
     ]
    }
   ],
   "source": [
    "from nltk.tokenize import TweetTokenizer\n",
    "# Чтобы узнать, какие параметры есть у этого токенайзера - используйте help(TweetTokenizer)\n",
    "# Для того, чтобы передать токенайзер в CountVectorizer используйте параметр tokenizer\n",
    "tk = TweetTokenizer()\n",
    "cVectTokenized = CountVectorizer(tokenizer=tk.tokenize)\n",
    "cVectTokenized.fit(X_train)\n",
    "X_train_cVectorized = cVectTokenized.transform(X_train).toarray()"
   ]
  },
  {
   "cell_type": "code",
   "execution_count": 21,
   "metadata": {},
   "outputs": [
    {
     "data": {
      "text/plain": [
       "(5329, 19670)"
      ]
     },
     "execution_count": 21,
     "metadata": {},
     "output_type": "execute_result"
    }
   ],
   "source": [
    "X_train_cVectorized.shape"
   ]
  },
  {
   "cell_type": "markdown",
   "metadata": {},
   "source": [
    "Количество стобцов даже выросло, по сравнению со стандартным CountVectorizer"
   ]
  },
  {
   "cell_type": "code",
   "execution_count": 22,
   "metadata": {},
   "outputs": [
    {
     "data": {
      "text/plain": [
       "(3939, 7338, 3149)"
      ]
     },
     "execution_count": 22,
     "metadata": {},
     "output_type": "execute_result"
    }
   ],
   "source": [
    "explore(cVectTokenized.vocabulary_)"
   ]
  },
  {
   "cell_type": "markdown",
   "metadata": {},
   "source": [
    "В словаре находится:\n",
    "\n",
    "    1) 3939 слов, содержащих цифры\n",
    "    2) 7338 слов, содержащих знаки пунктуации\n",
    "    3) 3149 слов, содержащих хэштеги или упоминания\n",
    "    \n",
    "Даже учитывая то, что среди 7338 слов, содержащих знаки пунктуации, 3149 слов - это хэштеги/упоминания, в целом, кол-во слов, содержащих знаки пунктуации значительно выросло, как и слов хэштегов/упоминаний"
   ]
  },
  {
   "cell_type": "markdown",
   "metadata": {},
   "source": [
    "## Задание 7 (2 балла)\n",
    "\n",
    "В scikit-learn мы можем оценивать процесс подсчета матрицы через CountVectorizer. У CountVectorizer, как и у других наследников \\_VectorizerMixin, есть аргумент tokenizer и preprocessor. preprocessor применится в самом начале к каждой строке вашего датасета, tokenizer же должен принять строку и вернуть токены.\n",
    "Давайте напишем кастомный токенайзер, которые сделает все, что нам нужно: \n",
    "\n",
    "0. Приведет все буквы к нижнему регистру\n",
    "1. Разобьет текст на токены с помощью TweetTokenizer из пакета nltk\n",
    "2. Удалит все токены содержащие не латинские буквы, кроме смайликов (будем считать ими токены содержащие только пунктуацию и, как минимум, одну скобочку) и хэштегов, которые после начальной # содержат только латинские буквы.\n",
    "3. Удалит все токены, которые перечислены в nltk.corpus.stopwords.words('english')\n",
    "4. Проведет стемминг с помощью SnowballStemmer\n",
    "\n",
    "Продемонстрируйте работу вашей функции на первых десяти текстах в обучающей выборке."
   ]
  },
  {
   "cell_type": "code",
   "execution_count": 23,
   "metadata": {},
   "outputs": [],
   "source": [
    "from nltk.corpus import stopwords\n",
    "import snowballstemmer\n",
    "\n",
    "def tokenize(text):\n",
    "    \n",
    "    result = list()\n",
    "    \n",
    "    # приводим все буквы к нижнему регистру\n",
    "    text = text.lower()\n",
    "    \n",
    "    # разбиваем текст на токены с помощью TweetTokenizer\n",
    "    tk = TweetTokenizer()\n",
    "    tokenized_text = tk.tokenize(text)\n",
    "    \n",
    "    # добавляем в результирующий массив только токены,\n",
    "    # соответсвующие определенным паттернам а также сразу проверяем,\n",
    "    # что токен не в стопсловах\n",
    "    latin_pattern = re.compile('^[a-z]+$')\n",
    "    smile_pattern = re.compile('(^[^a-zA-Z0-9\\n]*[()]+[^a-zA-Z0-9\\n]+$)|(^[^a-zA-Z0-9\\n]+[()]+[^a-zA-Z0-9\\n]*$)')\n",
    "    hashtag_pattern = re.compile('^#[a-z]+$')\n",
    "    \n",
    "    stop = stopwords.words('english')\n",
    "    \n",
    "    for token in tokenized_text:\n",
    "    \n",
    "        if bool(re.match(latin_pattern, token)) and token not in stop:\n",
    "            result.append(token)\n",
    "\n",
    "        elif bool(re.match(smile_pattern, token)) and token not in stop:\n",
    "            result.append(token)\n",
    "\n",
    "        elif bool(re.match(hashtag_pattern, token)) and token not in stop:\n",
    "            result.append(token)\n",
    "    \n",
    "    # проведем стемминг\n",
    "    stemmer = snowballstemmer.stemmer('english')\n",
    "    result = stemmer.stemWords(result)\n",
    "    \n",
    "    return result"
   ]
  },
  {
   "cell_type": "code",
   "execution_count": 24,
   "metadata": {},
   "outputs": [
    {
     "name": "stdout",
     "output_type": "stream",
     "text": [
      "\n",
      "-----------\n",
      "\n",
      "1: bridge%20collapse  Ashes 2015: AustraliaÛªs collapse at Trent Bridge among worst in history: England bundled out Australia for 60 ... http://t.co/t5TrhjUAU0\n",
      "\n",
      " -----> \n",
      "\n",
      "1: ['bridg', 'ash', 'australia', 'collaps', 'trent', 'bridg', 'among', 'worst', 'histori', 'england', 'bundl', 'australia']\n",
      "\n",
      "-----------\n",
      "\n",
      "2: hail Carol Stream, Illinois GREAT MICHIGAN TECHNIQUE CAMP\n",
      "B1G THANKS TO @bmurph1019 \n",
      "@hail_Youtsey . @termn8r13 \n",
      "#GoBlue #WrestleOn http://t.co/OasKgki6Qj\n",
      "\n",
      " -----> \n",
      "\n",
      "2: ['hail', 'carol', 'stream', 'illinoi', 'great', 'michigan', 'techniqu', 'camp', 'thank', '#goblu', '#wrestleon']\n",
      "\n",
      "-----------\n",
      "\n",
      "3: police Houston  CNN: Tennessee movie theater shooting suspect killed by police http://t.co/dI8ElZsWNR\n",
      "\n",
      " -----> \n",
      "\n",
      "3: ['polic', 'houston', 'cnn', 'tennesse', 'movi', 'theater', 'shoot', 'suspect', 'kill', 'polic']\n",
      "\n",
      "-----------\n",
      "\n",
      "4: rioting  Still rioting in a couple of hours left until I have to be up for class.\n",
      "\n",
      " -----> \n",
      "\n",
      "4: ['riot', 'still', 'riot', 'coupl', 'hour', 'left', 'class']\n",
      "\n",
      "-----------\n",
      "\n",
      "5: wounds Lake Highlands Crack in the path where I wiped out this morning during beach run. Surface wounds on left elbow and right knee. http://t.co/yaqRSximph\n",
      "\n",
      " -----> \n",
      "\n",
      "5: ['wound', 'lake', 'highland', 'crack', 'path', 'wipe', 'morn', 'beach', 'run', 'surfac', 'wound', 'left', 'elbow', 'right', 'knee']\n",
      "\n",
      "-----------\n",
      "\n",
      "6: airplane%20accident Somewhere Out There Experts in France begin examining airplane debris found on Reunion Island: French air accident experts on... http://t.co/TagZbcXFj0 #MLB\n",
      "\n",
      " -----> \n",
      "\n",
      "6: ['airplan', 'somewher', 'expert', 'franc', 'begin', 'examin', 'airplan', 'debri', 'found', 'reunion', 'island', 'french', 'air', 'accid', 'expert', '#mlb']\n",
      "\n",
      "-----------\n",
      "\n",
      "7: bloody Isolated City In World Perth 'I came to kill Indians...for FUN': Video of smirking and remorseless Pakistani killer shows him boasting. http://t.co/FPjLwOXKlg\n",
      "\n",
      " -----> \n",
      "\n",
      "7: ['bloodi', 'isol', 'citi', 'world', 'perth', 'came', 'kill', 'indian', 'fun', 'video', 'smirk', 'remorseless', 'pakistani', 'killer', 'show', 'boast']\n",
      "\n",
      "-----------\n",
      "\n",
      "8: burning  @JohnsonTionne except idk them?? it's really burning ??????\n",
      "\n",
      " -----> \n",
      "\n",
      "8: ['burn', 'except', 'idk', 'realli', 'burn']\n",
      "\n",
      "-----------\n",
      "\n",
      "9: destroy he/him or she/her (ask) destroy the house\n",
      "\n",
      " -----> \n",
      "\n",
      "9: ['destroy', 'ask', 'destroy', 'hous']\n",
      "\n",
      "-----------\n",
      "\n",
      "10: wounded Maracay y Nirgua, Venezuela Police Officer Wounded Suspect Dead After Exchanging Shots http://t.co/XxFk4KHbIw\n",
      "\n",
      " -----> \n",
      "\n",
      "10: ['wound', 'maracay', 'nirgua', 'venezuela', 'polic', 'offic', 'wound', 'suspect', 'dead', 'exchang', 'shot']\n"
     ]
    }
   ],
   "source": [
    "n_example = 10\n",
    "\n",
    "for i in range(n_example):\n",
    "    st = X_train.iloc[i]\n",
    "    print('\\n-----------\\n')\n",
    "    \n",
    "    print(f'{i+1}: {st}\\n\\n -----> \\n\\n{i+1}: {tokenize(st)}')"
   ]
  },
  {
   "cell_type": "markdown",
   "metadata": {},
   "source": [
    "## Задание 8 (1 балл)\n",
    "\n",
    "1. Примените CountVectorizer с реализованным выше токенизатором к обучающим и тестовым выборкам.\n",
    "2. Обучите LogisticRegression на полученных признаках.\n",
    "3. Посчитайте метрику f1-score на тестовых данных."
   ]
  },
  {
   "cell_type": "code",
   "execution_count": 25,
   "metadata": {},
   "outputs": [],
   "source": [
    "from sklearn.linear_model import LogisticRegression\n",
    "from sklearn.metrics import f1_score\n",
    "\n",
    "# Применим CountVectorizer c созданным токенизатором\n",
    "cVectCustom = CountVectorizer(tokenizer=tokenize)\n",
    "cVectCustom.fit(X_train)\n",
    "X_train_cVectorized = cVectCustom.transform(X_train)\n",
    "X_test_cVectorized = cVectCustom.transform(X_test)"
   ]
  },
  {
   "cell_type": "code",
   "execution_count": 26,
   "metadata": {},
   "outputs": [
    {
     "name": "stdout",
     "output_type": "stream",
     "text": [
      "F1 score на тренировочных данных: 0.9196850393700787\n",
      "F1 score на тестовых данных: 0.7604110329908058\n"
     ]
    }
   ],
   "source": [
    "# создадим модель\n",
    "model_lr = LogisticRegression(penalty='l2', C=0.49)\n",
    "model_lr.fit(X_train_cVectorized, y_train)\n",
    "\n",
    "# сделаем предсказания\n",
    "train_prediction = model_lr.predict(X_train_cVectorized)\n",
    "test_prediction = model_lr.predict(X_test_cVectorized)\n",
    "\n",
    "# вывод\n",
    "print(f'F1 score на тренировочных данных: {f1_score(y_train, train_prediction)}')\n",
    "print(f'F1 score на тестовых данных: {f1_score(y_test, test_prediction)}')"
   ]
  },
  {
   "cell_type": "markdown",
   "metadata": {},
   "source": [
    "Удалось получить требуемые 75% f1 меры уже на данном этапе. Однако заметим, что на тренировочных данных модель показывает сильно лучшие результаты, возможно это связано с переобучением\n",
    "\n",
    "Если немного поменять силу регуляризации, то можно получить 76% f1 меры, как показано выше"
   ]
  },
  {
   "cell_type": "markdown",
   "metadata": {},
   "source": [
    "## Задание 9 (1 балл)\n",
    "\n",
    "1. Повторите 7 задание, но с tf-idf векторизатором. Как изменилось качество?\n",
    "2. Мы можем еще сильнее уменьшить размер нашей матрицы, если отбросим значения df близкие к единице. Скорее всего такие слова не несут много информации о категории, так как встречаются достаточно часто. Ограничьте максимальный df в параметрах TfIdfVectorizer, поставьте верхнюю границу равную 0.9. Как изменился размер матрицы, как изменилось качество?\n",
    "3. Также мы можем уменьшить размер матрицы, удаляя слова со слишком маленьким df. Удалось ли добиться улучшения качества? "
   ]
  },
  {
   "cell_type": "markdown",
   "metadata": {},
   "source": [
    "Я подумал, что в пункте 1 требуется, скорее всего, повторить задание 8, а не 7, так как задание 7 про написание своего токенизатора"
   ]
  },
  {
   "cell_type": "markdown",
   "metadata": {},
   "source": [
    "#### Пункт 1"
   ]
  },
  {
   "cell_type": "code",
   "execution_count": 27,
   "metadata": {},
   "outputs": [
    {
     "name": "stderr",
     "output_type": "stream",
     "text": [
      "C:\\Users\\dima1\\Anaconda3\\lib\\site-packages\\sklearn\\feature_extraction\\text.py:489: UserWarning: The parameter 'token_pattern' will not be used since 'tokenizer' is not None'\n",
      "  warnings.warn(\"The parameter 'token_pattern' will not be used\"\n"
     ]
    },
    {
     "name": "stdout",
     "output_type": "stream",
     "text": [
      "(5329, 10478)\n"
     ]
    }
   ],
   "source": [
    "from sklearn.feature_extraction.text import TfidfVectorizer\n",
    "\n",
    "# применим tfidf\n",
    "tfidf = TfidfVectorizer(tokenizer=tokenize)\n",
    "tfidf.fit(X_train)\n",
    "X_train_tfidf = tfidf.transform(X_train)\n",
    "X_test_tfidf = tfidf.transform(X_test)\n",
    "\n",
    "# размер матриццы без ораничения по df\n",
    "print(X_train_tfidf.shape)"
   ]
  },
  {
   "cell_type": "code",
   "execution_count": 28,
   "metadata": {},
   "outputs": [
    {
     "name": "stdout",
     "output_type": "stream",
     "text": [
      "F1 score на тренировочных данных: 0.8430913348946135\n",
      "F1 score на тестовых данных: 0.7433333333333335\n"
     ]
    }
   ],
   "source": [
    "# создадим модель\n",
    "model_lr = LogisticRegression(penalty='l2')\n",
    "model_lr.fit(X_train_tfidf, y_train)\n",
    "\n",
    "# сделаем предсказания\n",
    "train_prediction = model_lr.predict(X_train_tfidf)\n",
    "test_prediction = model_lr.predict(X_test_tfidf)\n",
    "\n",
    "# вывод\n",
    "print(f'F1 score на тренировочных данных: {f1_score(y_train, train_prediction)}')\n",
    "print(f'F1 score на тестовых данных: {f1_score(y_test, test_prediction)}')"
   ]
  },
  {
   "cell_type": "markdown",
   "metadata": {},
   "source": [
    "Пусть качество упало, но разрыв между тестом и трейном тоже упал, что может означать, что фичи стали нести больше смысла, так как модель меньше переобучается. Также, если немного уменьшить силу регуляризации, можно получить такие же результаты по качеству, что и в Задании 7, однако с меньшим переобучением модели на трейне, что несомненно полезно"
   ]
  },
  {
   "cell_type": "markdown",
   "metadata": {},
   "source": [
    "#### Пункт 2"
   ]
  },
  {
   "cell_type": "code",
   "execution_count": 29,
   "metadata": {},
   "outputs": [
    {
     "name": "stderr",
     "output_type": "stream",
     "text": [
      "C:\\Users\\dima1\\Anaconda3\\lib\\site-packages\\sklearn\\feature_extraction\\text.py:489: UserWarning: The parameter 'token_pattern' will not be used since 'tokenizer' is not None'\n",
      "  warnings.warn(\"The parameter 'token_pattern' will not be used\"\n"
     ]
    },
    {
     "name": "stdout",
     "output_type": "stream",
     "text": [
      "(5329, 10478)\n"
     ]
    }
   ],
   "source": [
    "# применим tfidf с верхней границей 0.9\n",
    "tfidf = TfidfVectorizer(tokenizer=tokenize, max_df=0.9)\n",
    "tfidf.fit(X_train)\n",
    "X_train_tfidf = tfidf.transform(X_train)\n",
    "X_test_tfidf = tfidf.transform(X_test)\n",
    "\n",
    "# размер матриццы с ограничением по df\n",
    "print(X_train_tfidf.shape)"
   ]
  },
  {
   "cell_type": "code",
   "execution_count": 30,
   "metadata": {},
   "outputs": [
    {
     "name": "stdout",
     "output_type": "stream",
     "text": [
      "F1 score на тренировочных данных: 0.8430913348946135\n",
      "F1 score на тестовых данных: 0.7433333333333335\n"
     ]
    }
   ],
   "source": [
    "# создадим модель\n",
    "model_lr = LogisticRegression(penalty='l2')\n",
    "model_lr.fit(X_train_tfidf, y_train)\n",
    "\n",
    "# сделаем предсказания\n",
    "train_prediction = model_lr.predict(X_train_tfidf)\n",
    "test_prediction = model_lr.predict(X_test_tfidf)\n",
    "\n",
    "# вывод\n",
    "print(f'F1 score на тренировочных данных: {f1_score(y_train, train_prediction)}')\n",
    "print(f'F1 score на тестовых данных: {f1_score(y_test, test_prediction)}')"
   ]
  },
  {
   "cell_type": "markdown",
   "metadata": {},
   "source": [
    "Размер матрицы не изменился, как и качество. Скорее всего это произошло по причине того, что мы отбросили популярные слова не несущие особого смысла уже на этапе токенизации с помощью нашего кастомного токенизатора. \n",
    "\n",
    "Соответственно, чтобы хоть как-то изменить размер массива, нужно поставить max_df = 0.01, причем качество сильно падает даже от небольшого уменьшения массива (-400 признаков при значении max_df = 0.005), так как возможно с такой частотой мы встречаем довольно важные для модели слова. "
   ]
  },
  {
   "cell_type": "markdown",
   "metadata": {},
   "source": [
    "#### Пункт 3"
   ]
  },
  {
   "cell_type": "code",
   "execution_count": 31,
   "metadata": {},
   "outputs": [
    {
     "name": "stderr",
     "output_type": "stream",
     "text": [
      "C:\\Users\\dima1\\Anaconda3\\lib\\site-packages\\sklearn\\feature_extraction\\text.py:489: UserWarning: The parameter 'token_pattern' will not be used since 'tokenizer' is not None'\n",
      "  warnings.warn(\"The parameter 'token_pattern' will not be used\"\n"
     ]
    },
    {
     "name": "stdout",
     "output_type": "stream",
     "text": [
      "(5329, 1739)\n"
     ]
    }
   ],
   "source": [
    "# применим tfidf с нижней границей 0.001\n",
    "tfidf = TfidfVectorizer(tokenizer=tokenize, max_df=0.9, min_df=0.001)\n",
    "tfidf.fit(X_train)\n",
    "X_train_tfidf = tfidf.transform(X_train)\n",
    "X_test_tfidf = tfidf.transform(X_test)\n",
    "\n",
    "# размер матриццы с ограничением по df\n",
    "print(X_train_tfidf.shape)"
   ]
  },
  {
   "cell_type": "code",
   "execution_count": 32,
   "metadata": {},
   "outputs": [
    {
     "name": "stdout",
     "output_type": "stream",
     "text": [
      "F1 score на тренировочных данных: 0.8022258288894041\n",
      "F1 score на тестовых данных: 0.7464324917672888\n"
     ]
    }
   ],
   "source": [
    "# создадим модель\n",
    "model_lr = LogisticRegression(penalty='l2')\n",
    "model_lr.fit(X_train_tfidf, y_train)\n",
    "\n",
    "# сделаем предсказания\n",
    "train_prediction = model_lr.predict(X_train_tfidf)\n",
    "test_prediction = model_lr.predict(X_test_tfidf)\n",
    "\n",
    "# вывод\n",
    "print(f'F1 score на тренировочных данных: {f1_score(y_train, train_prediction)}')\n",
    "print(f'F1 score на тестовых данных: {f1_score(y_test, test_prediction)}')"
   ]
  },
  {
   "cell_type": "markdown",
   "metadata": {},
   "source": [
    "Если поставить min_df = 0.001, исходя из предположения, что совсем редкие слова тоже не помогут нашей модели, то удасться отсеять огромное количество признаков, при этом не потеряв в качества, даже улучшив его на незначительные 0.003. Однако это также поможет уменьшить переобучение модели на тренировочных данных"
   ]
  },
  {
   "cell_type": "markdown",
   "metadata": {},
   "source": [
    "## Задание 10 (1 балл)\n",
    "\n",
    "Еще один популяпный трюк, который позволит уменьшить количество признаков называется hashing trick. Его суть в том, то мы случайно группируем признаки ииии  ..... складываем их! А потом удаляем исходные признаки. В итоге все наши признаки это просто суммы исходных. Звучит странно, но это отлично работает. Давайте проверим этот трюк в нашем сеттинге.\n",
    "Также при таком подходе вам не нужно хранить словарь token->index, что тоже иногда полезно.\n",
    "\n",
    "1. Повторите задание 7 с HashingVectorizer, укажите количество фичей равное 5000.\n",
    "2. Какой из подходов показал самый высокий результат?"
   ]
  },
  {
   "cell_type": "code",
   "execution_count": 33,
   "metadata": {},
   "outputs": [
    {
     "name": "stderr",
     "output_type": "stream",
     "text": [
      "C:\\Users\\dima1\\Anaconda3\\lib\\site-packages\\sklearn\\feature_extraction\\text.py:489: UserWarning: The parameter 'token_pattern' will not be used since 'tokenizer' is not None'\n",
      "  warnings.warn(\"The parameter 'token_pattern' will not be used\"\n"
     ]
    },
    {
     "name": "stdout",
     "output_type": "stream",
     "text": [
      "(5329, 5000)\n"
     ]
    }
   ],
   "source": [
    "from sklearn.feature_extraction.text import HashingVectorizer\n",
    "\n",
    "# применим HashingVectorizer\n",
    "vHashing = HashingVectorizer(tokenizer=tokenize, n_features=5000)\n",
    "vHashing.fit(X_train)\n",
    "X_train_hash = vHashing.transform(X_train)\n",
    "X_test_hash = vHashing.transform(X_test)\n",
    "\n",
    "# размер матриццы\n",
    "print(X_train_hash.shape)"
   ]
  },
  {
   "cell_type": "code",
   "execution_count": 34,
   "metadata": {},
   "outputs": [
    {
     "name": "stdout",
     "output_type": "stream",
     "text": [
      "F1 score на тренировочных данных: 0.7992547741034001\n",
      "F1 score на тестовых данных: 0.7205800334634691\n"
     ]
    }
   ],
   "source": [
    "# создадим модель\n",
    "model_lr = LogisticRegression(penalty='l2')\n",
    "model_lr.fit(X_train_hash, y_train)\n",
    "\n",
    "# сделаем предсказания\n",
    "train_prediction = model_lr.predict(X_train_hash)\n",
    "test_prediction = model_lr.predict(X_test_hash)\n",
    "\n",
    "# вывод\n",
    "print(f'F1 score на тренировочных данных: {f1_score(y_train, train_prediction)}')\n",
    "print(f'F1 score на тестовых данных: {f1_score(y_test, test_prediction)}')"
   ]
  },
  {
   "cell_type": "markdown",
   "metadata": {},
   "source": [
    "Видим, что модель не сильно переобучается, однако итоговое качество на тесте уже не такое хорошее, возможно тщательный подбор гиперпараметра n_features помог бы модели получить более хороший результат"
   ]
  },
  {
   "cell_type": "markdown",
   "metadata": {},
   "source": [
    "Из всех моделей я бы обратил внимание на две:\n",
    "    \n",
    "    1) Обученную на обычном CountVectorizer со слабой регуляризацией, которая помогла достигнуть 76% f1 меры на тесте\n",
    "    \n",
    "    2) Обученную на Tfidf, с выставленным параметром минимальной частоты, которая при настройки силы регуляризации тоже позволяет получить 75% качества на тесте, однако модель сильно меньше переобучается на трейне, что поможет ей получать более стабильные результаты на случайных данных, в отличие от первой. Также при использовании данного метода признаковое поле было сокращено до 1739 признаков, что может сильно помочь в использовании других моделей помимо линейных, так как сильно сокращает размерность данных"
   ]
  },
  {
   "cell_type": "markdown",
   "metadata": {},
   "source": [
    "## Задание 11 (1 балл)\n",
    "\n",
    "В этом задании нужно добиться f1 меры хотя в 0.75 на тестовых данных."
   ]
  },
  {
   "cell_type": "markdown",
   "metadata": {},
   "source": [
    "В задании 8 было достигнуто значение 0.76 для f1 меры"
   ]
  },
  {
   "cell_type": "code",
   "execution_count": 35,
   "metadata": {},
   "outputs": [
    {
     "name": "stderr",
     "output_type": "stream",
     "text": [
      "C:\\Users\\dima1\\Anaconda3\\lib\\site-packages\\sklearn\\feature_extraction\\text.py:489: UserWarning: The parameter 'token_pattern' will not be used since 'tokenizer' is not None'\n",
      "  warnings.warn(\"The parameter 'token_pattern' will not be used\"\n"
     ]
    },
    {
     "name": "stdout",
     "output_type": "stream",
     "text": [
      "(5329, 1739)\n",
      "F1 score на тренировочных данных: 0.8420332801458856\n",
      "F1 score на тестовых данных: 0.7569593147751607\n"
     ]
    }
   ],
   "source": [
    "# применим tfidf с нижней границей 0.001\n",
    "tfidf = TfidfVectorizer(tokenizer=tokenize, max_df=0.9, min_df=0.001)\n",
    "tfidf.fit(X_train)\n",
    "X_train_tfidf = tfidf.transform(X_train)\n",
    "X_test_tfidf = tfidf.transform(X_test)\n",
    "\n",
    "# размер матриццы с ограничением по df\n",
    "print(X_train_tfidf.shape)\n",
    "\n",
    "# создадим модель\n",
    "model_lr = LogisticRegression(penalty='l2', C=4)\n",
    "model_lr.fit(X_train_tfidf, y_train)\n",
    "\n",
    "# сделаем предсказания\n",
    "train_prediction = model_lr.predict(X_train_tfidf)\n",
    "test_prediction = model_lr.predict(X_test_tfidf)\n",
    "\n",
    "# вывод\n",
    "print(f'F1 score на тренировочных данных: {f1_score(y_train, train_prediction)}')\n",
    "print(f'F1 score на тестовых данных: {f1_score(y_test, test_prediction)}')"
   ]
  }
 ],
 "metadata": {
  "kernelspec": {
   "display_name": "Python 3",
   "language": "python",
   "name": "python3"
  },
  "language_info": {
   "codemirror_mode": {
    "name": "ipython",
    "version": 3
   },
   "file_extension": ".py",
   "mimetype": "text/x-python",
   "name": "python",
   "nbconvert_exporter": "python",
   "pygments_lexer": "ipython3",
   "version": "3.8.3"
  }
 },
 "nbformat": 4,
 "nbformat_minor": 2
}
